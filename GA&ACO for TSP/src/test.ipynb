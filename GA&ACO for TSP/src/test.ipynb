{
 "cells": [
  {
   "cell_type": "code",
   "execution_count": 3,
   "metadata": {},
   "outputs": [
    {
     "name": "stdout",
     "output_type": "stream",
     "text": [
      "Ready reading maze file ./../data/hard_maze.txt\n",
      "Time taken: 5.488\n",
      "Route size: 971\n"
     ]
    }
   ],
   "source": [
    "import time\n",
    "import matplotlib as plt \n",
    "from AntColonyOptimization import AntColonyOptimization\n",
    "from GeneticAlgorithm import GeneticAlgorithm\n",
    "from Maze import Maze\n",
    "from PathSpecification import PathSpecification\n",
    "from TSPData import TSPData\n",
    "\n",
    "# Please keep your parameters for the ACO easily changeable here\n",
    "no_ants = 30 #number of ants\n",
    "no_gen = 10 #number of generation\n",
    "q = 1000\n",
    "evap = 0.1\n",
    "alpha = 1\n",
    "beta = 5 \n",
    "convergence_criterion = 30\n",
    "\n",
    "# Construct the optimization objects\n",
    "maze = Maze.create_maze(\"./../data/hard_maze.txt\")\n",
    "spec = PathSpecification.read_coordinates(\"./../data/hard_coordinates.txt\")\n",
    "prev_shortest_route_array = []\n",
    "aco = AntColonyOptimization(maze, no_ants, no_gen, q, evap, alpha, beta, convergence_criterion)\n",
    "\n",
    "# Save starting time\n",
    "start_time = int(round(time.time() * 1000))\n",
    "\n",
    "# Run optimization\n",
    "prev_shortest_route = aco.find_shortest_route(spec, prev_shortest_route_array)\n",
    "\n",
    "# Print time taken\n",
    "print(\"Time taken: \" + str((int(round(time.time() * 1000)) - start_time) / 1000.0))\n",
    "\n",
    "# Save solution\n",
    "prev_shortest_route.write_to_file(\"./../data/medium_solution.txt\")\n",
    "\n",
    "\n",
    "\n",
    "# Print route size\n",
    "print(\"Route size: \" + str(prev_shortest_route.size()))"
   ]
  }
 ],
 "metadata": {
  "kernelspec": {
   "display_name": "Qiskit",
   "language": "python",
   "name": "qiskit"
  },
  "language_info": {
   "codemirror_mode": {
    "name": "ipython",
    "version": 3
   },
   "file_extension": ".py",
   "mimetype": "text/x-python",
   "name": "python",
   "nbconvert_exporter": "python",
   "pygments_lexer": "ipython3",
   "version": "3.9.13"
  },
  "orig_nbformat": 4
 },
 "nbformat": 4,
 "nbformat_minor": 2
}
