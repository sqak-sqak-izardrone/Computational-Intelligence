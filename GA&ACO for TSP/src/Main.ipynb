{
 "cells": [
  {
   "cell_type": "code",
   "execution_count": 1,
   "metadata": {},
   "outputs": [],
   "source": [
    "import time\n",
    "\n",
    "from AntColonyOptimization import AntColonyOptimization\n",
    "from GeneticAlgorithm import GeneticAlgorithm\n",
    "from Maze import Maze\n",
    "from PathSpecification import PathSpecification\n",
    "from TSPData import TSPData"
   ]
  },
  {
   "cell_type": "markdown",
   "metadata": {},
   "source": [
    "### Part 1: The Travelling Robot Problem"
   ]
  },
  {
   "cell_type": "code",
   "execution_count": null,
   "metadata": {},
   "outputs": [],
   "source": [
    "# Please keep your parameters for the Genetic Algorithm easily changeable here\n",
    "population_size = 20\n",
    "generations = 20\n",
    "persist_file = \"./../data/optimal_tsp\"\n",
    "\n",
    "# Setup optimization\n",
    "tsp_data = TSPData.read_from_file(persist_file)\n",
    "ga = GeneticAlgorithm(generations, population_size)\n",
    "\n",
    "# Run optimzation and write to file\n",
    "solution = ga.solve_tsp(tsp_data)\n",
    "tsp_data.write_action_file(solution, \"./../data/tsp_solution.txt\")"
   ]
  },
  {
   "cell_type": "markdown",
   "metadata": {},
   "source": [
    "### Part 2: Path Finding Through Ant Colony Optimization"
   ]
  },
  {
   "cell_type": "code",
   "execution_count": 1,
   "metadata": {},
   "outputs": [
    {
     "name": "stdout",
     "output_type": "stream",
     "text": [
      "Ready reading maze file ./../data/easy_maze.txt\n",
      "[((20, 11), (1, 0.001)), ((18, 11), (1, 0.001))]\n",
      "[((20, 11), (1, 0.001)), ((18, 11), (1, 0.001))]\n",
      "[((20, 11), (1, 0.001)), ((18, 11), (1, 0.001))]\n",
      "[((20, 11), (1, 0.001)), ((18, 11), (1, 0.001))]\n"
     ]
    },
    {
     "ename": "KeyError",
     "evalue": "(18, 12)",
     "output_type": "error",
     "traceback": [
      "\u001b[1;31m---------------------------------------------------------------------------\u001b[0m",
      "\u001b[1;31mKeyError\u001b[0m                                  Traceback (most recent call last)",
      "Cell \u001b[1;32mIn[1], line 31\u001b[0m\n\u001b[0;32m     22\u001b[0m start_time \u001b[39m=\u001b[39m \u001b[39mint\u001b[39m(\u001b[39mround\u001b[39m(time\u001b[39m.\u001b[39mtime() \u001b[39m*\u001b[39m \u001b[39m1000\u001b[39m))\n\u001b[0;32m     24\u001b[0m \u001b[39m# maze.initialize_pheromones()\u001b[39;00m\n\u001b[0;32m     25\u001b[0m \u001b[39m# graph = maze.get_graph()\u001b[39;00m\n\u001b[0;32m     26\u001b[0m \n\u001b[1;32m   (...)\u001b[0m\n\u001b[0;32m     29\u001b[0m \n\u001b[0;32m     30\u001b[0m \u001b[39m# Run optimization\u001b[39;00m\n\u001b[1;32m---> 31\u001b[0m shortest_route \u001b[39m=\u001b[39m aco\u001b[39m.\u001b[39;49mfind_shortest_route(spec)\n\u001b[0;32m     33\u001b[0m \u001b[39m# Print time taken\u001b[39;00m\n\u001b[0;32m     34\u001b[0m \u001b[39m#print(\"Time taken: \" + str((int(round(time.time() * 1000)) - start_time) / 1000.0))\u001b[39;00m\n\u001b[0;32m     35\u001b[0m \n\u001b[1;32m   (...)\u001b[0m\n\u001b[0;32m     39\u001b[0m \u001b[39m# Print route size\u001b[39;00m\n\u001b[0;32m     40\u001b[0m \u001b[39m#print(\"Route size: \" + str(shortest_route.size()))\u001b[39;00m\n",
      "File \u001b[1;32mc:\\Users\\hp\\Documents\\git-vluong\\CI36\\GA&ACO for TSP\\src\\AntColonyOptimization.py:57\u001b[0m, in \u001b[0;36mAntColonyOptimization.find_shortest_route\u001b[1;34m(self, path_specification)\u001b[0m\n\u001b[0;32m     55\u001b[0m prev_node \u001b[39m=\u001b[39m \u001b[39mself\u001b[39m\u001b[39m.\u001b[39mmove_back(start_coordinate, prev_step)\n\u001b[0;32m     56\u001b[0m \u001b[39m#print(prev_node)\u001b[39;00m\n\u001b[1;32m---> 57\u001b[0m prev_neighbors \u001b[39m=\u001b[39m graph\u001b[39m.\u001b[39;49mget_neighbors(prev_node)\n\u001b[0;32m     58\u001b[0m \u001b[39mprint\u001b[39m(prev_neighbors)\n\u001b[0;32m     59\u001b[0m available_neighbors \u001b[39m=\u001b[39m [n \u001b[39mfor\u001b[39;00m n \u001b[39min\u001b[39;00m prev_neighbors \u001b[39mif\u001b[39;00m \u001b[39mnot\u001b[39;00m visited[n[\u001b[39m0\u001b[39m]]]\n",
      "File \u001b[1;32mc:\\Users\\hp\\Documents\\git-vluong\\CI36\\GA&ACO for TSP\\src\\Graph.py:17\u001b[0m, in \u001b[0;36mGraph.get_neighbors\u001b[1;34m(self, coordinates)\u001b[0m\n\u001b[0;32m     16\u001b[0m \u001b[39mdef\u001b[39;00m \u001b[39mget_neighbors\u001b[39m(\u001b[39mself\u001b[39m, coordinates):\n\u001b[1;32m---> 17\u001b[0m     \u001b[39mreturn\u001b[39;00m \u001b[39mself\u001b[39;49m\u001b[39m.\u001b[39;49mnodes[coordinates]\u001b[39m.\u001b[39mget_neighbors()\n",
      "\u001b[1;31mKeyError\u001b[0m: (18, 12)"
     ]
    }
   ],
   "source": [
    "import time\n",
    "\n",
    "from AntColonyOptimization import AntColonyOptimization\n",
    "from GeneticAlgorithm import GeneticAlgorithm\n",
    "from Maze import Maze\n",
    "from PathSpecification import PathSpecification\n",
    "from TSPData import TSPData\n",
    "# Please keep your parameters for the ACO easily changeable here\n",
    "gen = 10\n",
    "no_gen = 10\n",
    "q = 1600\n",
    "evap = 0.1\n",
    "alpha = 1 \n",
    "beta = 5 \n",
    "\n",
    "# Construct the optimization objects\n",
    "maze = Maze.create_maze(\"./../data/easy_maze.txt\")\n",
    "spec = PathSpecification.read_coordinates(\"./../data/easy_coordinates.txt\")\n",
    "aco = AntColonyOptimization(maze, gen, no_gen, q, evap, alpha, beta)\n",
    "\n",
    "# Save starting time\n",
    "start_time = int(round(time.time() * 1000))\n",
    "\n",
    "# maze.initialize_pheromones()\n",
    "# graph = maze.get_graph()\n",
    "\n",
    "# for node in graph.nodes: \n",
    "#     print(graph.nodes[node], graph.get_neighbors(node))\n",
    "\n",
    "# Run optimization\n",
    "shortest_route = aco.find_shortest_route(spec)\n",
    "\n",
    "# Print time taken\n",
    "#print(\"Time taken: \" + str((int(round(time.time() * 1000)) - start_time) / 1000.0))\n",
    "\n",
    "# Save solution\n",
    "#shortest_route.write_to_file(\"./../data/hard_solution.txt\")\n",
    "\n",
    "# Print route size\n",
    "#print(\"Route size: \" + str(shortest_route.size()))"
   ]
  },
  {
   "cell_type": "markdown",
   "metadata": {},
   "source": [
    "### Synthesis"
   ]
  },
  {
   "cell_type": "code",
   "execution_count": 1,
   "metadata": {},
   "outputs": [
    {
     "ename": "NameError",
     "evalue": "name 'Maze' is not defined",
     "output_type": "error",
     "traceback": [
      "\u001b[1;31m---------------------------------------------------------------------------\u001b[0m",
      "\u001b[1;31mNameError\u001b[0m                                 Traceback (most recent call last)",
      "Cell \u001b[1;32mIn[1], line 12\u001b[0m\n\u001b[0;32m      9\u001b[0m coordinates \u001b[39m=\u001b[39m \u001b[39m\"\u001b[39m\u001b[39m./../data/hard_coordinates.txt\u001b[39m\u001b[39m\"\u001b[39m\n\u001b[0;32m     11\u001b[0m \u001b[39m# Construct optimization\u001b[39;00m\n\u001b[1;32m---> 12\u001b[0m maze \u001b[39m=\u001b[39m Maze\u001b[39m.\u001b[39mcreate_maze(\u001b[39m\"\u001b[39m\u001b[39m./../data/hard_maze.txt\u001b[39m\u001b[39m\"\u001b[39m)\n\u001b[0;32m     13\u001b[0m tsp_data \u001b[39m=\u001b[39m TSPData\u001b[39m.\u001b[39mread_specification(coordinates, tsp_path)\n\u001b[0;32m     14\u001b[0m aco \u001b[39m=\u001b[39m AntColonyOptimization(maze, gen, no_gen, q, evap)\n",
      "\u001b[1;31mNameError\u001b[0m: name 'Maze' is not defined"
     ]
    }
   ],
   "source": [
    "# Please keep your parameters for the synthesis part easily changeable here\n",
    "gen = 1\n",
    "no_gen = 1\n",
    "q = 1000\n",
    "evap = 0.1\n",
    "\n",
    "persist_file = \"./../tmp/my_tsp\"\n",
    "tsp_path = \"./../data/tsp_products.txt\"\n",
    "coordinates = \"./../data/hard_coordinates.txt\"\n",
    "\n",
    "# Construct optimization\n",
    "maze = Maze.create_maze(\"./../data/hard_maze.txt\")\n",
    "tsp_data = TSPData.read_specification(coordinates, tsp_path)\n",
    "aco = AntColonyOptimization(maze, gen, no_gen, q, evap)\n",
    "\n",
    "# Run optimization and write to file\n",
    "tsp_data.calculate_routes(aco)\n",
    "tsp_data.write_to_file(persist_file)\n",
    "\n",
    "# Read from file and print\n",
    "tsp_data2 = TSPData.read_from_file(persist_file)\n",
    "print(tsp_data == tsp_data2)\n",
    "\n",
    "# Solve TSP using your own paths file\n",
    "ga = GeneticAlgorithm(generations, population_size)\n",
    "solution = ga.solve_tsp(tsp_data2)\n",
    "tsp_data2.write_action_file(solution, \"./../data/tsp_solution.txt\")"
   ]
  },
  {
   "cell_type": "code",
   "execution_count": null,
   "metadata": {},
   "outputs": [],
   "source": []
  }
 ],
 "metadata": {
  "kernelspec": {
   "display_name": "Python 3",
   "language": "python",
   "name": "python3"
  },
  "language_info": {
   "codemirror_mode": {
    "name": "ipython",
    "version": 3
   },
   "file_extension": ".py",
   "mimetype": "text/x-python",
   "name": "python",
   "nbconvert_exporter": "python",
   "pygments_lexer": "ipython3",
   "version": "3.11.0"
  },
  "vscode": {
   "interpreter": {
    "hash": "b0fa6594d8f4cbf19f97940f81e996739fb7646882a419484c72d19e05852a7e"
   }
  }
 },
 "nbformat": 4,
 "nbformat_minor": 2
}
