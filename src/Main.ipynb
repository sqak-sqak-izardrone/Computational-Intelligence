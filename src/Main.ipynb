{
 "cells": [
  {
   "cell_type": "code",
   "execution_count": 1,
   "metadata": {},
   "outputs": [],
   "source": [
    "from NeuralNetwork import Perceptron, ANN"
   ]
  },
  {
   "cell_type": "code",
   "execution_count": 4,
   "metadata": {},
   "outputs": [
    {
     "ename": "TypeError",
     "evalue": "object of type 'int' has no len()",
     "output_type": "error",
     "traceback": [
      "\u001b[1;31m---------------------------------------------------------------------------\u001b[0m",
      "\u001b[1;31mTypeError\u001b[0m                                 Traceback (most recent call last)",
      "\u001b[1;32md:\\CI\\CI36\\src\\Main.ipynb Cell 2\u001b[0m in \u001b[0;36m<cell line: 1>\u001b[1;34m()\u001b[0m\n\u001b[1;32m----> <a href='vscode-notebook-cell:/d%3A/CI/CI36/src/Main.ipynb#W1sZmlsZQ%3D%3D?line=0'>1</a>\u001b[0m percept\u001b[39m=\u001b[39mPerceptron(\u001b[39m2\u001b[39;49m,[\u001b[39m0.5\u001b[39;49m,\u001b[39m0.5\u001b[39;49m])\n\u001b[0;32m      <a href='vscode-notebook-cell:/d%3A/CI/CI36/src/Main.ipynb#W1sZmlsZQ%3D%3D?line=1'>2</a>\u001b[0m percept\u001b[39m.\u001b[39msimple_feed_forward([\u001b[39m0\u001b[39m,\u001b[39m1\u001b[39m])\n",
      "File \u001b[1;32md:\\CI\\CI36\\src\\NeuralNetwork.py:19\u001b[0m, in \u001b[0;36mPerceptron.__init__\u001b[1;34m(self, features, init_weight, activation_function)\u001b[0m\n\u001b[0;32m     17\u001b[0m \u001b[39mdef\u001b[39;00m \u001b[39m__init__\u001b[39m(\u001b[39mself\u001b[39m, features, init_weight, activation_function\u001b[39m=\u001b[39m\u001b[39m\"\u001b[39m\u001b[39msigmoid\u001b[39m\u001b[39m\"\u001b[39m):\n\u001b[0;32m     18\u001b[0m     \u001b[39mself\u001b[39m\u001b[39m.\u001b[39mfeatures\u001b[39m=\u001b[39mfeatures\n\u001b[1;32m---> 19\u001b[0m     \u001b[39mself\u001b[39m\u001b[39m.\u001b[39mweights\u001b[39m=\u001b[39minit_weight[\u001b[39m0\u001b[39m:\u001b[39mlen\u001b[39;49m(features)]\n\u001b[0;32m     20\u001b[0m     \u001b[39mself\u001b[39m\u001b[39m.\u001b[39mbias\u001b[39m=\u001b[39minit_weight[\u001b[39mlen\u001b[39m(features)]\n\u001b[0;32m     21\u001b[0m     \u001b[39mself\u001b[39m\u001b[39m.\u001b[39mactivation_function\u001b[39m=\u001b[39mactivation_function\n",
      "\u001b[1;31mTypeError\u001b[0m: object of type 'int' has no len()"
     ]
    }
   ],
   "source": [
    "percept=Perceptron(2,[0.5,0.5])\n",
    "percept.simple_feed_forward([0,1])"
   ]
  }
 ],
 "metadata": {
  "kernelspec": {
   "display_name": "base",
   "language": "python",
   "name": "python3"
  },
  "language_info": {
   "codemirror_mode": {
    "name": "ipython",
    "version": 3
   },
   "file_extension": ".py",
   "mimetype": "text/x-python",
   "name": "python",
   "nbconvert_exporter": "python",
   "pygments_lexer": "ipython3",
   "version": "3.9.12"
  },
  "vscode": {
   "interpreter": {
    "hash": "d8d23641d860aa492a58fb8679f47d97563bf347b32655d525fa730357314b14"
   }
  }
 },
 "nbformat": 4,
 "nbformat_minor": 2
}
