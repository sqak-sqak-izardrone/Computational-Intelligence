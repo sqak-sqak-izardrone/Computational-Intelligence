{
 "cells": [
  {
   "cell_type": "code",
   "execution_count": null,
   "metadata": {},
   "outputs": [],
   "source": [
    "from NeuralNetwork import Perceptron, ANN"
   ]
  },
  {
   "cell_type": "code",
   "execution_count": 8,
   "metadata": {},
   "outputs": [],
   "source": [
    "import pandas as pd\n",
    "import numpy as np\n",
    "from matplotlib import pyplot as plt\n"
   ]
  },
  {
   "cell_type": "code",
   "execution_count": 3,
   "metadata": {},
   "outputs": [],
   "source": [
    "# Importing data\n",
    "features = pd.read_csv(\"../data/features.txt\", header=None).to_numpy()\n",
    "labels_non_onehot = pd.read_csv(\"../data/targets.txt\", header=None).to_numpy()\n",
    "labels_onehot =  pd.DataFrame(index=range(7854),columns=range(7)).fillna(0).to_numpy()\n",
    "\n",
    "for id in range(7854):\n",
    "    label = labels_non_onehot[id] - 1\n",
    "    labels_onehot[id][label] = 1\n"
   ]
  }
 ],
 "metadata": {
  "kernelspec": {
   "display_name": "challenge",
   "language": "python",
   "name": "python3"
  },
  "language_info": {
   "codemirror_mode": {
    "name": "ipython",
    "version": 3
   },
   "file_extension": ".py",
   "mimetype": "text/x-python",
   "name": "python",
   "nbconvert_exporter": "python",
   "pygments_lexer": "ipython3",
   "version": "3.9.16"
  },
  "orig_nbformat": 4,
  "vscode": {
   "interpreter": {
    "hash": "f58db120b2693413b46c2e24ac5b57a3edbded016d6fa6b6b0243b8d8f0fd2c8"
   }
  }
 },
 "nbformat": 4,
 "nbformat_minor": 2
}
