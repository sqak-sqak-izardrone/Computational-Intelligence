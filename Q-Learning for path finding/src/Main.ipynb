{
 "cells": [
  {
   "cell_type": "code",
   "execution_count": 2,
   "metadata": {},
   "outputs": [],
   "source": [
    "from Maze import Maze\n",
    "from Agent import Agent\n",
    "from MyQLearning import MyQLearning\n",
    "from MyEGreedy import MyEGreedy\n",
    "from State import State"
   ]
  },
  {
   "cell_type": "code",
   "execution_count": 3,
   "metadata": {},
   "outputs": [
    {
     "name": "stdout",
     "output_type": "stream",
     "text": [
      "Ready reading maze file ../data/toy_maze.txt\n",
      "Made EGreedy\n",
      "finding pathhhhhhhhhh\n",
      "position: 0 0\n",
      "position: 1 0\n",
      "position: 1 1\n",
      "position: 1 2\n",
      "position: 1 3\n",
      "position: 1 4\n",
      "position: 1 5\n",
      "position: 1 6\n",
      "position: 2 6\n",
      "position: 2 7\n",
      "position: 2 8\n",
      "position: 2 9\n",
      "position: 3 9\n",
      "position: 4 9\n",
      "position: 5 9\n",
      "position: 6 9\n",
      "position: 7 9\n",
      "position: 7 8\n",
      "position: 7 7\n",
      "position: 7 6\n",
      "position: 7 5\n",
      "position: 7 4\n",
      "position: 7 3\n",
      "position: 8 3\n",
      "position: 9 3\n",
      "position: 9 2\n",
      "position: 9 1\n",
      "position: 9 0\n",
      "updating policy\n",
      "28\n",
      "finding pathhhhhhhhhh\n",
      "position: 0 0\n",
      "position: 1 0\n",
      "position: 1 1\n",
      "position: 1 2\n",
      "position: 1 3\n",
      "position: 1 4\n",
      "position: 1 5\n",
      "position: 1 6\n",
      "position: 2 6\n",
      "position: 3 6\n",
      "position: 4 6\n",
      "position: 5 6\n",
      "position: 6 6\n",
      "position: 7 6\n",
      "position: 7 5\n",
      "position: 7 4\n",
      "position: 6 4\n",
      "position: 5 4\n",
      "position: 5 3\n",
      "position: 4 3\n",
      "position: 3 3\n",
      "position: 3 4\n",
      "position: 3 5\n",
      "updating policy\n",
      "23\n",
      "generating path\n",
      "['right', 'down', 'down', 'down', 'down', 'down', 'down', 'left', 'down', 'down', 'down', 'terminal']\n"
     ]
    }
   ],
   "source": [
    "# Load the maze\n",
    "file = \"../data/toy_maze.txt\"\n",
    "maze = Maze(file)\n",
    "\n",
    "# Set the reward at the bottom right to 10\n",
    "start_x,start_y=0,0\n",
    "end_x,end_y=9,9\n",
    "epsilon=0.1\n",
    "alpha=0.1\n",
    "gamma=0.1\n",
    "iterations=2\n",
    "maze.set_reward(maze.get_state(end_x,end_y), 10)\n",
    "\n",
    "# Create a robot at starting and reset location (0,0) (top left)\n",
    "robot = Agent(start_x, start_y)\n",
    "\n",
    "# Make a selection object (you need to implement the methods in this class)\n",
    "selection = MyEGreedy()\n",
    "\n",
    "# Make a Qlearning object (you need to implement the methods in this class)\n",
    "learn = MyQLearning()\n",
    "\n",
    "stop = False\n",
    "\n",
    "\n",
    "\n",
    "# keep learning until you decide to stop\n",
    "end_state=State(end_x,end_y,1)\n",
    "count=0\n",
    "while count<iterations:\n",
    "    history=[]\n",
    "    print(\"finding pathhhhhhhhhh\")\n",
    "    while not (robot.x==-1 and robot.y==-1):\n",
    "        print(\"position:\"+\" \"+str(robot.x)+\" \"+str(robot.y))\n",
    "        action = selection.get_egreedy_action(robot,maze,learn,end_state,epsilon)\n",
    "        new_state=robot.do_action(action,maze)\n",
    "        history.append([robot.get_state(maze),action,new_state])\n",
    "    print(\"updating policy\")\n",
    "    for t in history:\n",
    "        possible_actions=maze.get_valid_actions(Agent(t[2].x,t[2].y),end_state)\n",
    "        learn.update_q(t[0],t[1],maze.get_reward(t[0]),t[2],possible_actions,alpha,gamma)\n",
    "    robot.reset()\n",
    "    count += 1\n",
    "\n",
    "print(\"generating path\")\n",
    "actions=[]\n",
    "while not (robot.x==-1 and robot.y==-1):\n",
    "    action = selection.get_egreedy_action(robot,maze,learn,end_state,epsilon)\n",
    "    robot.do_action(action,maze)\n",
    "    actions.append(action.id)\n",
    "print(actions)"
   ]
  },
  {
   "cell_type": "code",
   "execution_count": 6,
   "metadata": {},
   "outputs": [
    {
     "name": "stdout",
     "output_type": "stream",
     "text": [
      "12;\n",
      "0, 0;\n",
      "0;\n",
      "3;\n",
      "3;\n",
      "3;\n",
      "3;\n",
      "3;\n",
      "3;\n",
      "2;\n",
      "3;\n",
      "3;\n",
      "3;\n",
      "\n"
     ]
    },
    {
     "data": {
      "text/plain": [
       "43"
      ]
     },
     "execution_count": 6,
     "metadata": {},
     "output_type": "execute_result"
    }
   ],
   "source": [
    "file_path = \"../data/toy_solution.txt\"\n",
    "f = open(file_path, \"w\")\n",
    "string = \"\"\n",
    "string += str(len(actions))\n",
    "string += \";\\n\"\n",
    "string += str(0) + \", \" + str(0)\n",
    "string += \";\\n\"\n",
    "for i in actions:\n",
    "    if(i == \"right\"):\n",
    "        string += str(0)\n",
    "        string += \";\\n\"\n",
    "    elif(i == \"left\"):\n",
    "        string += str(2)\n",
    "        string += \";\\n\"                \n",
    "    elif(i == \"up\"):\n",
    "        string += str(1)\n",
    "        string += \";\\n\"\n",
    "    elif(i == \"down\"):\n",
    "        string += str(3)\n",
    "        string += \";\\n\"\n",
    "print(string)\n",
    "f.write(string)"
   ]
  },
  {
   "cell_type": "code",
   "execution_count": 5,
   "metadata": {},
   "outputs": [
    {
     "name": "stdout",
     "output_type": "stream",
     "text": [
      "{<State.State object at 0x000002F0187DD810>: {<Action.Action object at 0x000002F0187DD590>: 0.0}, <State.State object at 0x000002F0187DDAD0>: {<Action.Action object at 0x000002F0187DD550>: 0.0}, <State.State object at 0x000002F0187DDD90>: {<Action.Action object at 0x000002F0187DD550>: 0.0}, <State.State object at 0x000002F0187DE090>: {<Action.Action object at 0x000002F0187DD550>: 0.0}, <State.State object at 0x000002F0187DE390>: {<Action.Action object at 0x000002F0187DD550>: 0.0}, <State.State object at 0x000002F0187DE650>: {<Action.Action object at 0x000002F0187DD550>: 0.0}, <State.State object at 0x000002F0187DE910>: {<Action.Action object at 0x000002F0187DD550>: 0.0}, <State.State object at 0x000002F0187DE950>: {<Action.Action object at 0x000002F0187DD590>: 0.0}, <State.State object at 0x000002F0187DEC10>: {<Action.Action object at 0x000002F0187DD550>: 0.0}, <State.State object at 0x000002F0187DEE90>: {<Action.Action object at 0x000002F0187DD550>: 0.0}, <State.State object at 0x000002F0187DF150>: {<Action.Action object at 0x000002F0187DD550>: 0.0}, <State.State object at 0x000002F0187DF190>: {<Action.Action object at 0x000002F0187DD590>: 0.0}, <State.State object at 0x000002F0187DF1D0>: {<Action.Action object at 0x000002F0187DD590>: 0.0}, <State.State object at 0x000002F0187DF250>: {<Action.Action object at 0x000002F0187DD590>: 0.0}, <State.State object at 0x000002F0187DF290>: {<Action.Action object at 0x000002F0187DD590>: 0.0}, <State.State object at 0x000002F0187DF2D0>: {<Action.Action object at 0x000002F0187DD590>: 0.0}, <State.State object at 0x000002F0187DF010>: {<Action.Action object at 0x000002F0187DD4D0>: 0.0}, <State.State object at 0x000002F0187DED90>: {<Action.Action object at 0x000002F0187DD4D0>: 0.0}, <State.State object at 0x000002F0187DEAD0>: {<Action.Action object at 0x000002F0187DD4D0>: 0.0, <Action.Action object at 0x000002F0187DD590>: 0.0}, <State.State object at 0x000002F0187DE810>: {<Action.Action object at 0x000002F0187DD4D0>: 0.0}, <State.State object at 0x000002F0187DE550>: {<Action.Action object at 0x000002F0187DD4D0>: 0.0}, <State.State object at 0x000002F0187DE250>: {<Action.Action object at 0x000002F0187DD4D0>: 0.0}, <State.State object at 0x000002F0187DE290>: {<Action.Action object at 0x000002F0187DD590>: 0.0}, <State.State object at 0x000002F0187DE190>: {<Action.Action object at 0x000002F0187DD590>: 0.0}, <State.State object at 0x000002F0187DDED0>: {<Action.Action object at 0x000002F0187DD4D0>: 0.0}, <State.State object at 0x000002F0187DDBD0>: {<Action.Action object at 0x000002F0187DD4D0>: 0.0}, <State.State object at 0x000002F0187DD910>: {<Action.Action object at 0x000002F0187DD4D0>: 0.0}, <State.State object at 0x000002F0187DF210>: {<Action.Action object at 0x000002F0187DD5D0>: 2.0}, <State.State object at 0x000002F0187DE990>: {<Action.Action object at 0x000002F0187DD590>: 0.0}, <State.State object at 0x000002F0187DE9D0>: {<Action.Action object at 0x000002F0187DD590>: 0.0}, <State.State object at 0x000002F0187DEA50>: {<Action.Action object at 0x000002F0187DD590>: 0.0}, <State.State object at 0x000002F0187DEA90>: {<Action.Action object at 0x000002F0187DD590>: 0.0}, <State.State object at 0x000002F0187DE510>: {<Action.Action object at 0x000002F0187DD1D0>: 0.0}, <State.State object at 0x000002F0187DE4D0>: {<Action.Action object at 0x000002F0187DD1D0>: 0.0}, <State.State object at 0x000002F0187DE1D0>: {<Action.Action object at 0x000002F0187DD4D0>: 0.0}, <State.State object at 0x000002F0187DE150>: {<Action.Action object at 0x000002F0187DD1D0>: 0.0}, <State.State object at 0x000002F0187DE110>: {<Action.Action object at 0x000002F0187DD1D0>: 0.0}, <State.State object at 0x000002F0187DE410>: {<Action.Action object at 0x000002F0187DD550>: 0.0}, <State.State object at 0x000002F0187DE6D0>: {<Action.Action object at 0x000002F0187DD550>: 0.0}}\n"
     ]
    }
   ],
   "source": [
    "print(learn.q)"
   ]
  },
  {
   "cell_type": "code",
   "execution_count": null,
   "metadata": {},
   "outputs": [],
   "source": []
  }
 ],
 "metadata": {
  "kernelspec": {
   "display_name": "Python 3",
   "language": "python",
   "name": "python3"
  },
  "language_info": {
   "codemirror_mode": {
    "name": "ipython",
    "version": 3
   },
   "file_extension": ".py",
   "mimetype": "text/x-python",
   "name": "python",
   "nbconvert_exporter": "python",
   "pygments_lexer": "ipython3",
   "version": "3.11.0"
  },
  "orig_nbformat": 4
 },
 "nbformat": 4,
 "nbformat_minor": 2
}
