{
 "cells": [
  {
   "cell_type": "code",
   "execution_count": 2,
   "metadata": {},
   "outputs": [],
   "source": [
    "from Maze import Maze\n",
    "from Agent import Agent\n",
    "from MyQLearning import MyQLearning\n",
    "from MyEGreedy import MyEGreedy\n",
    "from State import State"
   ]
  },
  {
   "cell_type": "code",
   "execution_count": 4,
   "metadata": {},
   "outputs": [
    {
     "name": "stdout",
     "output_type": "stream",
     "text": [
      "Ready reading maze file ../data/toy_maze.txt\n",
      "Made EGreedy\n",
      "finding pathhhhhhhhhh\n",
      "position: 0 0\n",
      "position: 1 0\n",
      "position: 1 1\n",
      "position: 1 2\n",
      "position: 1 3\n",
      "position: 1 4\n",
      "position: 1 5\n",
      "position: 1 6\n",
      "position: 2 6\n",
      "position: 3 6\n",
      "position: 3 5\n",
      "position: 3 4\n",
      "position: 3 3\n",
      "position: 4 3\n",
      "position: 5 3\n",
      "position: 5 4\n",
      "position: 6 4\n",
      "position: 7 4\n",
      "position: 7 3\n",
      "position: 8 3\n",
      "position: 9 3\n",
      "position: 9 2\n",
      "position: 9 1\n",
      "position: 9 0\n",
      "updating policy\n",
      "24\n",
      "finding pathhhhhhhhhh\n",
      "position: 0 0\n",
      "position: 1 0\n",
      "position: 1 1\n",
      "position: 2 1\n",
      "position: 3 1\n",
      "position: 3 0\n",
      "updating policy\n",
      "6\n",
      "generating path\n",
      "[<Action.Action object at 0x00000293E7CEE3D0>, <Action.Action object at 0x00000293E7CEE5B0>, <Action.Action object at 0x00000293E7CEE5B0>, <Action.Action object at 0x00000293E7CEE5B0>, <Action.Action object at 0x00000293E7CEE5B0>, <Action.Action object at 0x00000293E7CEE5B0>, <Action.Action object at 0x00000293E7CEE5B0>, <Action.Action object at 0x00000293E7CEE310>, <Action.Action object at 0x00000293E7CEE5B0>, <Action.Action object at 0x00000293E7CEE5B0>, <Action.Action object at 0x00000293E7CEE5B0>, <Action.Action object at 0x00000293E7CEE490>]\n"
     ]
    }
   ],
   "source": [
    "# Load the maze\n",
    "file = \"../data/toy_maze.txt\"\n",
    "maze = Maze(file)\n",
    "\n",
    "# Set the reward at the bottom right to 10\n",
    "start_x,start_y=0,0\n",
    "end_x,end_y=9,9\n",
    "epsilon=0.1\n",
    "alpha=0.1\n",
    "gamma=0.1\n",
    "iterations=2\n",
    "maze.set_reward(maze.get_state(end_x,end_y), 10)\n",
    "\n",
    "# Create a robot at starting and reset location (0,0) (top left)\n",
    "robot = Agent(start_x, start_y)\n",
    "\n",
    "# Make a selection object (you need to implement the methods in this class)\n",
    "selection = MyEGreedy()\n",
    "\n",
    "# Make a Qlearning object (you need to implement the methods in this class)\n",
    "learn = MyQLearning()\n",
    "\n",
    "stop = False\n",
    "\n",
    "\n",
    "\n",
    "# keep learning until you decide to stop\n",
    "end_state=State(end_x,end_y,1)\n",
    "count=0\n",
    "while count<iterations:\n",
    "    history=[]\n",
    "    print(\"finding pathhhhhhhhhh\")\n",
    "    while not (robot.x==-1 and robot.y==-1):\n",
    "        print(\"position:\"+\" \"+str(robot.x)+\" \"+str(robot.y))\n",
    "        action = selection.get_egreedy_action(robot,maze,learn,end_state,epsilon)\n",
    "        new_state=robot.do_action(action,maze)\n",
    "        history.append([robot.get_state(maze),action,new_state])\n",
    "    print(\"updating policy\")\n",
    "    for t in history:\n",
    "        possible_actions=maze.get_valid_actions(Agent(t[2].x,t[2].y),end_state)\n",
    "        learn.update_q(t[0],t[1],maze.get_reward(t[0]),t[2],possible_actions,alpha,gamma)\n",
    "    robot.reset()\n",
    "    count += 1\n",
    "\n",
    "print(\"generating path\")\n",
    "actions=[]\n",
    "while not (robot.x==-1 and robot.y==-1):\n",
    "    action = selection.get_egreedy_action(robot,maze,learn,end_state,epsilon)\n",
    "    robot.do_action(action,maze)\n",
    "    actions.append(action.id)\n",
    "print(actions)"
   ]
  },
  {
   "cell_type": "code",
   "execution_count": 3,
   "metadata": {},
   "outputs": [
    {
     "name": "stdout",
     "output_type": "stream",
     "text": [
      "{<State.State object at 0x00000157FF871DC0>: {<Action.Action object at 0x00000157FF86E550>: 0.0, <Action.Action object at 0x00000157FF86EC10>: 0.0}, <State.State object at 0x00000157FF8691C0>: {<Action.Action object at 0x00000157FF86EF70>: 0.0, <Action.Action object at 0x00000157FF86EC10>: 0.0, <Action.Action object at 0x00000157FF86EBB0>: 0.0}, <State.State object at 0x00000157FF8681C0>: {<Action.Action object at 0x00000157FF86EF70>: 0.0, <Action.Action object at 0x00000157FF86EC10>: 0.0}, <State.State object at 0x00000157FF869220>: {<Action.Action object at 0x00000157FF86E550>: 0.0, <Action.Action object at 0x00000157FF86EBB0>: 0.0}, <State.State object at 0x00000157FF871D60>: {<Action.Action object at 0x00000157FF86EBB0>: 0.0}, <State.State object at 0x00000157FF869280>: {<Action.Action object at 0x00000157FF86E550>: 0.0, <Action.Action object at 0x00000157FF86EF70>: 0.0}, <State.State object at 0x00000157FF871E80>: {<Action.Action object at 0x00000157FF86EC10>: 0.0}, <State.State object at 0x00000157FF8687C0>: {<Action.Action object at 0x00000157FF86EF70>: 0.0, <Action.Action object at 0x00000157FF86EC10>: 0.0}, <State.State object at 0x00000157FF8680D0>: {<Action.Action object at 0x00000157FF86EF70>: 0.0, <Action.Action object at 0x00000157FF86EC10>: 0.0}, <State.State object at 0x00000157FF85EA60>: {<Action.Action object at 0x00000157FF86EF70>: 0.0, <Action.Action object at 0x00000157FF86EC10>: 0.0}, <State.State object at 0x00000157FF85EF70>: {<Action.Action object at 0x00000157FF86EF70>: 0.0, <Action.Action object at 0x00000157FF86E550>: 0.0, <Action.Action object at 0x00000157FF86EBB0>: 0.0}, <State.State object at 0x00000157FF85EF10>: {<Action.Action object at 0x00000157FF86EBB0>: 0.0, <Action.Action object at 0x00000157FF86EC10>: 0.0}, <State.State object at 0x00000157EE3332B0>: {<Action.Action object at 0x00000157FF86EF70>: 0.0, <Action.Action object at 0x00000157FF86EC10>: 0.0}, <State.State object at 0x00000157EE435DF0>: {<Action.Action object at 0x00000157FF86EF70>: 0.0, <Action.Action object at 0x00000157FF86EC10>: 0.0}, <State.State object at 0x00000157FF85EA90>: {<Action.Action object at 0x00000157FF86E550>: 0.0, <Action.Action object at 0x00000157FF86EC10>: 0.0, <Action.Action object at 0x00000157FF86EBB0>: 0.0}, <State.State object at 0x00000157EE435520>: {<Action.Action object at 0x00000157FF86EF70>: 0.0, <Action.Action object at 0x00000157FF86EC10>: 0.0}, <State.State object at 0x00000157FF850D60>: {<Action.Action object at 0x00000157FF86E550>: 0.0, <Action.Action object at 0x00000157FF86EF70>: 0.0, <Action.Action object at 0x00000157FF86EBB0>: 0.0}, <State.State object at 0x00000157FF85E9A0>: {<Action.Action object at 0x00000157FF86EC10>: 0.0, <Action.Action object at 0x00000157FF86EF70>: 0.0}, <State.State object at 0x00000157FF85EB50>: {<Action.Action object at 0x00000157FF86EC10>: 0.0, <Action.Action object at 0x00000157FF86EF70>: 0.0}, <State.State object at 0x00000157FF868700>: {<Action.Action object at 0x00000157FF86EC10>: 0.0, <Action.Action object at 0x00000157FF86EBB0>: 0.0}, <State.State object at 0x00000157FF8686A0>: {<Action.Action object at 0x00000157FF86E550>: 0.0, <Action.Action object at 0x00000157FF86EBB0>: 0.0}, <State.State object at 0x00000157FF868640>: {<Action.Action object at 0x00000157FF86E550>: 0.0, <Action.Action object at 0x00000157FF86EC10>: 0.0}, <State.State object at 0x00000157FF85EDC0>: {<Action.Action object at 0x00000157FF86EF70>: 0.0, <Action.Action object at 0x00000157FF86EBB0>: 0.0}, <State.State object at 0x00000157FF85ED60>: {<Action.Action object at 0x00000157FF86E550>: 0.0, <Action.Action object at 0x00000157FF86EBB0>: 0.0}, <State.State object at 0x00000157FF85ED00>: {<Action.Action object at 0x00000157FF86E550>: 0.0, <Action.Action object at 0x00000157FF86EF70>: 0.0, <Action.Action object at 0x00000157FF86EC10>: 0.0}, <State.State object at 0x00000157FF868580>: {<Action.Action object at 0x00000157FF86EC10>: 0.0, <Action.Action object at 0x00000157FF86EF70>: 0.0, <Action.Action object at 0x00000157FF86EBB0>: 0.0}, <State.State object at 0x00000157FF868940>: {<Action.Action object at 0x00000157FF86EC10>: 0.0, <Action.Action object at 0x00000157FF86EF70>: 0.0}, <State.State object at 0x00000157FF868250>: {<Action.Action object at 0x00000157FF86EC10>: 0.0, <Action.Action object at 0x00000157FF86E550>: 0.0}, <State.State object at 0x00000157FF868520>: {<Action.Action object at 0x00000157FF86E550>: 0.0, <Action.Action object at 0x00000157FF86EBB0>: 0.0}, <State.State object at 0x00000157FF8684C0>: {<Action.Action object at 0x00000157FF86E550>: 0.0, <Action.Action object at 0x00000157FF86EC10>: 0.0, <Action.Action object at 0x00000157FF86EF70>: 0.0}, <State.State object at 0x00000157FF85EC40>: {<Action.Action object at 0x00000157FF86EF70>: 0.0, <Action.Action object at 0x00000157FF86EC10>: 0.0}, <State.State object at 0x00000157FF85EEB0>: {<Action.Action object at 0x00000157FF86EF70>: 0.0, <Action.Action object at 0x00000157FF86EC10>: 0.0}, <State.State object at 0x00000157FF868880>: {<Action.Action object at 0x00000157FF86EC10>: 0.0, <Action.Action object at 0x00000157FF86EF70>: 0.0}, <State.State object at 0x00000157FF868340>: {<Action.Action object at 0x00000157FF86EC10>: 0.0, <Action.Action object at 0x00000157FF86EF70>: 0.0}, <State.State object at 0x00000157FF869100>: {<Action.Action object at 0x00000157FF86EC10>: 0.0}, <State.State object at 0x00000157FF8681F0>: {<Action.Action object at 0x00000157FF86EBB0>: 0.0, <Action.Action object at 0x00000157FF86E550>: 0.0}, <State.State object at 0x00000157FF869340>: {<Action.Action object at 0x00000157FF86EBB0>: 0.0, <Action.Action object at 0x00000157FF86EF70>: 0.0}, <State.State object at 0x00000157FF871F40>: {<Action.Action object at 0x00000157FF86EC10>: 0.0}, <State.State object at 0x00000157FF85EDF0>: {<Action.Action object at 0x00000157FF86EF70>: 0.0, <Action.Action object at 0x00000157FF86EC10>: 0.0}, <State.State object at 0x00000157EE31FD60>: {<Action.Action object at 0x00000157FF86EF70>: 0.0, <Action.Action object at 0x00000157FF86E550>: 0.0, <Action.Action object at 0x00000157FF86EC10>: 0.0}, <State.State object at 0x00000157FF767430>: {<Action.Action object at 0x00000157FF86EBB0>: 0.0, <Action.Action object at 0x00000157FF86E550>: 0.0}, <State.State object at 0x00000157FF7673D0>: {<Action.Action object at 0x00000157FF86EBB0>: 0.0, <Action.Action object at 0x00000157FF86E550>: 0.0}, <State.State object at 0x00000157FF8507C0>: {<Action.Action object at 0x00000157FF86EBB0>: 0.0, <Action.Action object at 0x00000157FF86E550>: 0.0}, <State.State object at 0x00000157EE321790>: {<Action.Action object at 0x00000157FF86EF70>: 0.0, <Action.Action object at 0x00000157FF86EC10>: 0.0}, <State.State object at 0x00000157FF8833D0>: {<Action.Action object at 0x00000157FF86EF70>: 0.0, <Action.Action object at 0x00000157FF86EBB0>: 0.0}, <State.State object at 0x00000157EE3335B0>: {<Action.Action object at 0x00000157FF86EF70>: 0.0, <Action.Action object at 0x00000157FF86EC10>: 0.0}, <State.State object at 0x00000157EE435880>: {<Action.Action object at 0x00000157FF86EF70>: 0.0, <Action.Action object at 0x00000157FF86EC10>: 0.0}, <State.State object at 0x00000157FF8832B0>: {<Action.Action object at 0x00000157FF86EF70>: 0.0}, <State.State object at 0x00000157EE435910>: {<Action.Action object at 0x00000157FF86EF70>: 0.0, <Action.Action object at 0x00000157FF86EC10>: 0.0}, <State.State object at 0x00000157FF883310>: {<Action.Action object at 0x00000157FF86EF70>: 0.0}, <State.State object at 0x00000157FF883430>: {<Action.Action object at 0x00000157FF86E550>: 0.0, <Action.Action object at 0x00000157FF86EBB0>: 0.0}, <State.State object at 0x00000157FF883490>: {<Action.Action object at 0x00000157FF86E550>: 0.0, <Action.Action object at 0x00000157FF86EBB0>: 0.0}, <State.State object at 0x00000157FF8834F0>: {<Action.Action object at 0x00000157FF86E550>: 0.0, <Action.Action object at 0x00000157FF86EBB0>: 0.0}, <State.State object at 0x00000157FF8831F0>: {<Action.Action object at 0x00000157FF86EF70>: 0.0, <Action.Action object at 0x00000157FF86EC10>: 0.0}, <State.State object at 0x00000157FF883550>: {<Action.Action object at 0x00000157FF86E550>: 0.0, <Action.Action object at 0x00000157FF86EBB0>: 0.0}, <State.State object at 0x00000157FF8835B0>: {<Action.Action object at 0x00000157FF86E550>: 0.0, <Action.Action object at 0x00000157FF86EF70>: 0.0}, <State.State object at 0x00000157FF883670>: {<Action.Action object at 0x00000157FF86EF70>: 1.0}}\n"
     ]
    }
   ],
   "source": [
    "print(learn.q)"
   ]
  }
 ],
 "metadata": {
  "kernelspec": {
   "display_name": "Qiskit",
   "language": "python",
   "name": "qiskit"
  },
  "language_info": {
   "codemirror_mode": {
    "name": "ipython",
    "version": 3
   },
   "file_extension": ".py",
   "mimetype": "text/x-python",
   "name": "python",
   "nbconvert_exporter": "python",
   "pygments_lexer": "ipython3",
   "version": "3.9.13"
  },
  "orig_nbformat": 4,
  "vscode": {
   "interpreter": {
    "hash": "2469a70536e4d2335a2ea8907942d0699c37342a371ac185bdb5b0aa6f073890"
   }
  }
 },
 "nbformat": 4,
 "nbformat_minor": 2
}
