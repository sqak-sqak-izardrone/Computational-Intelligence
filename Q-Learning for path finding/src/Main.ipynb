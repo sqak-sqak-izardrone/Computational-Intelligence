{
 "cells": [
  {
   "cell_type": "code",
   "execution_count": null,
   "metadata": {},
   "outputs": [],
   "source": [
    "from Maze import Maze\n",
    "from Agent import Agent\n",
    "from MyQLearning import MyQLearning\n",
    "from MyEGreedy import MyEGreedy\n",
    "from State import State"
   ]
  },
  {
   "cell_type": "code",
   "execution_count": 5,
   "metadata": {},
   "outputs": [
    {
     "name": "stdout",
     "output_type": "stream",
     "text": [
      "Ready reading maze file ../data/toy_maze.txt\n",
      "Made EGreedy\n",
      "finding path\n",
      "updating policy\n"
     ]
    },
    {
     "ename": "AttributeError",
     "evalue": "'list' object has no attribute 'length'",
     "output_type": "error",
     "traceback": [
      "\u001b[1;31m---------------------------------------------------------------------------\u001b[0m",
      "\u001b[1;31mAttributeError\u001b[0m                            Traceback (most recent call last)",
      "\u001b[1;32md:\\CI\\CI36\\Q-Learning for path finding\\src\\Main.ipynb Cell 2\u001b[0m in \u001b[0;36m4\n\u001b[0;32m     <a href='vscode-notebook-cell:/d%3A/CI/CI36/Q-Learning%20for%20path%20finding/src/Main.ipynb#W1sZmlsZQ%3D%3D?line=37'>38</a>\u001b[0m     \u001b[39mfor\u001b[39;00m t \u001b[39min\u001b[39;00m history:\n\u001b[0;32m     <a href='vscode-notebook-cell:/d%3A/CI/CI36/Q-Learning%20for%20path%20finding/src/Main.ipynb#W1sZmlsZQ%3D%3D?line=38'>39</a>\u001b[0m         possible_actions\u001b[39m=\u001b[39mmaze\u001b[39m.\u001b[39mget_valid_actions(Agent(t[\u001b[39m2\u001b[39m]\u001b[39m.\u001b[39mx,t[\u001b[39m2\u001b[39m]\u001b[39m.\u001b[39my),end_state)\n\u001b[1;32m---> <a href='vscode-notebook-cell:/d%3A/CI/CI36/Q-Learning%20for%20path%20finding/src/Main.ipynb#W1sZmlsZQ%3D%3D?line=39'>40</a>\u001b[0m         learn\u001b[39m.\u001b[39mupdate_q(t[\u001b[39m0\u001b[39m],t[\u001b[39m1\u001b[39m],maze\u001b[39m.\u001b[39mget_reward(t[\u001b[39m0\u001b[39m]),t[\u001b[39m2\u001b[39m],possible_actions,end_state,alpha,gamma)\n\u001b[0;32m     <a href='vscode-notebook-cell:/d%3A/CI/CI36/Q-Learning%20for%20path%20finding/src/Main.ipynb#W1sZmlsZQ%3D%3D?line=40'>41</a>\u001b[0m     count \u001b[39m+\u001b[39m\u001b[39m=\u001b[39m \u001b[39m1\u001b[39m\n\u001b[0;32m     <a href='vscode-notebook-cell:/d%3A/CI/CI36/Q-Learning%20for%20path%20finding/src/Main.ipynb#W1sZmlsZQ%3D%3D?line=42'>43</a>\u001b[0m \u001b[39mprint\u001b[39m(\u001b[39m\"\u001b[39m\u001b[39mgenerating path\u001b[39m\u001b[39m\"\u001b[39m)\n",
      "File \u001b[1;32md:\\CI\\CI36\\Q-Learning for path finding\\src\\MyQLearning.py:7\u001b[0m, in \u001b[0;36mMyQLearning.update_q\u001b[1;34m(self, state, action, r, state_next, possible_actions, end_state, alfa, gamma)\u001b[0m\n\u001b[0;32m      4\u001b[0m \u001b[39mdef\u001b[39;00m \u001b[39mupdate_q\u001b[39m(\u001b[39mself\u001b[39m, state, action, r, state_next, possible_actions,end_state, alfa, gamma):\n\u001b[0;32m      5\u001b[0m     \u001b[39m# TODO Auto-generated method stub\u001b[39;00m\n\u001b[0;32m      6\u001b[0m     Q_old\u001b[39m=\u001b[39m\u001b[39mself\u001b[39m\u001b[39m.\u001b[39mget_q(state,action)\n\u001b[1;32m----> 7\u001b[0m     \u001b[39mif\u001b[39;00m possible_actions\u001b[39m.\u001b[39;49mlength\u001b[39m==\u001b[39m\u001b[39m0\u001b[39m:\n\u001b[0;32m      8\u001b[0m         Q_next_best\u001b[39m=\u001b[39m\u001b[39m0\u001b[39m\n\u001b[0;32m      9\u001b[0m     \u001b[39melse\u001b[39;00m:\n",
      "\u001b[1;31mAttributeError\u001b[0m: 'list' object has no attribute 'length'"
     ]
    }
   ],
   "source": [
    "# Load the maze\n",
    "file = \"../data/toy_maze.txt\"\n",
    "maze = Maze(file)\n",
    "\n",
    "# Set the reward at the bottom right to 10\n",
    "start_x,start_y=0,0\n",
    "end_x,end_y=9,9\n",
    "epsilon=0.1\n",
    "alpha=0.1\n",
    "gamma=0.1\n",
    "iterations=2\n",
    "maze.set_reward(maze.get_state(end_x,end_y), 10)\n",
    "\n",
    "# Create a robot at starting and reset location (0,0) (top left)\n",
    "robot = Agent(start_x, start_y)\n",
    "\n",
    "# Make a selection object (you need to implement the methods in this class)\n",
    "selection = MyEGreedy()\n",
    "\n",
    "# Make a Qlearning object (you need to implement the methods in this class)\n",
    "learn = MyQLearning()\n",
    "\n",
    "stop = False\n",
    "\n",
    "\n",
    "\n",
    "# keep learning until you decide to stop\n",
    "end_state=State(end_x,end_y,1)\n",
    "count=0\n",
    "while count<iterations:\n",
    "    history=[]\n",
    "    print(\"finding path\")\n",
    "    while not (robot.x==end_x and robot.y==end_y):\n",
    "        action = selection.get_egreedy_action(robot,maze,learn,end_state,epsilon)\n",
    "        new_state=robot.do_action(action,maze)\n",
    "        history.append([robot.get_state(maze),action,new_state])\n",
    "    print(\"updating policy\")\n",
    "    for t in history:\n",
    "        possible_actions=maze.get_valid_actions(Agent(t[2].x,t[2].y),end_state)\n",
    "        learn.update_q(t[0],t[1],maze.get_reward(t[0]),t[2],possible_actions,end_state,alpha,gamma)\n",
    "    count += 1\n",
    "\n",
    "print(\"generating path\")\n",
    "actions=[]\n",
    "while not (robot.x==end_x and robot.y==end_y):\n",
    "    action = selection.get_egreedy_action(robot,maze,learn,epsilon)\n",
    "    robot.do_action(action,maze)\n",
    "    actions.append(action)\n",
    "print(actions)"
   ]
  }
 ],
 "metadata": {
  "kernelspec": {
   "display_name": "Qiskit",
   "language": "python",
   "name": "qiskit"
  },
  "language_info": {
   "codemirror_mode": {
    "name": "ipython",
    "version": 3
   },
   "file_extension": ".py",
   "mimetype": "text/x-python",
   "name": "python",
   "nbconvert_exporter": "python",
   "pygments_lexer": "ipython3",
   "version": "3.9.13"
  },
  "orig_nbformat": 4,
  "vscode": {
   "interpreter": {
    "hash": "2469a70536e4d2335a2ea8907942d0699c37342a371ac185bdb5b0aa6f073890"
   }
  }
 },
 "nbformat": 4,
 "nbformat_minor": 2
}
